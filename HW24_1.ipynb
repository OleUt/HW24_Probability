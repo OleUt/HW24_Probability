{
 "cells": [
  {
   "cell_type": "code",
   "execution_count": 10,
   "id": "5de31bd5",
   "metadata": {},
   "outputs": [],
   "source": [
    "# імовірність помилки і кількість документів у економіста А\n",
    "p_a = 0.1\n",
    "doc_a = 40\n",
    "\n",
    "# імовірність помилки і кількість документів у економіста В\n",
    "p_b = 0.2\n",
    "doc_b = 60\n",
    "\n",
    "# кількість документів з помилкою від економіста А\n",
    "err_a = p_a * n_a\n",
    "\n",
    "# кількість документів з помилкою від економіста В\n",
    "err_b = p_b * n_b\n",
    "\n",
    "# загальна кількість документів з помилкою\n",
    "err = err_a + err_b\n",
    "\n",
    "# загальна кількість документів\n",
    "doc = doc_a + doc_b"
   ]
  },
  {
   "cell_type": "code",
   "execution_count": 11,
   "id": "ae163586",
   "metadata": {},
   "outputs": [
    {
     "name": "stdout",
     "output_type": "stream",
     "text": [
      "імовірність того, що взятий документ буде мати похибку\n",
      "0.16\n",
      "імовірність того, що якщо взятий документ має похибку, то вона зроблена економістом А\n",
      "0.25\n"
     ]
    }
   ],
   "source": [
    "# Засіб 1\n",
    "\n",
    "print('імовірність того, що взятий документ буде мати похибку')\n",
    "p_err = err / doc\n",
    "print(p_err)\n",
    "\n",
    "print('імовірність того, що якщо взятий документ має похибку, то вона зроблена економістом А')\n",
    "p_err_a = err_a / err\n",
    "print(p_err_a)"
   ]
  },
  {
   "cell_type": "code",
   "execution_count": 12,
   "id": "5d2257eb",
   "metadata": {},
   "outputs": [
    {
     "name": "stdout",
     "output_type": "stream",
     "text": [
      "Теорема Байєса. Імовірність того, що якщо взятий документ має похибку, то вона зроблена економістом А\n",
      "0.25000000000000006\n"
     ]
    }
   ],
   "source": [
    "# Засіб 2. Теорема Байєса\n",
    "\n",
    "# імовірність того, що взятий документ зробив економіст А\n",
    "p_doc_a = doc_a / doc\n",
    "\n",
    "# p(A|Err) = p(A) * p(Err|A) / p(Err)\n",
    "print('Теорема Байєса. Імовірність того, що якщо взятий документ має похибку, то вона зроблена економістом А')\n",
    "p_err_a_Bayes = p_doc_a * p_a / p_err\n",
    "print(p_err_a_Bayes)\n"
   ]
  }
 ],
 "metadata": {
  "kernelspec": {
   "display_name": "Python 3 (ipykernel)",
   "language": "python",
   "name": "python3"
  },
  "language_info": {
   "codemirror_mode": {
    "name": "ipython",
    "version": 3
   },
   "file_extension": ".py",
   "mimetype": "text/x-python",
   "name": "python",
   "nbconvert_exporter": "python",
   "pygments_lexer": "ipython3",
   "version": "3.11.1"
  }
 },
 "nbformat": 4,
 "nbformat_minor": 5
}
