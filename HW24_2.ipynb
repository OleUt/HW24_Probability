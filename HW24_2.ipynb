{
 "cells": [
  {
   "cell_type": "code",
   "execution_count": 25,
   "id": "1db2c1d2",
   "metadata": {},
   "outputs": [],
   "source": [
    "import math\n",
    "\n",
    "def statistics(distribution):    \n",
    "    m, v, var = 0, 0, 0\n",
    "       for i in distribution:\n",
    "        m += i[0] * i[1]\n",
    "        v += i[0] * i[0] * i[1]\n",
    "        var = v - m*m\n",
    "    std_dev = math.sqrt(var)\n",
    "    var_coef = std_dev / m * 100\n",
    "    \n",
    "    return m, var, std_dev, var_coef      # math exp (M), variance (D), std deviation (sigma), variation coefficient (VC)"
   ]
  },
  {
   "cell_type": "code",
   "execution_count": 26,
   "id": "fc470521",
   "metadata": {},
   "outputs": [
    {
     "name": "stdout",
     "output_type": "stream",
     "text": [
      "[1350.0, 152500.0, 390.51248379533274, 28.92685065150613]\n",
      "[1350.0, 90000.0, 300.0, 22.22222222222222]\n"
     ]
    }
   ],
   "source": [
    "a = [[1000, 0.5], [1500, 0.3], [2000, 0.2]]\n",
    "b = [[1000, 0.4], [1500, 0.4], [1750, 0.2]]\n",
    "\n",
    "a_stat = list(statistics(a))\n",
    "a_m, a_var, a_sd, a_vc = a_stat[0], a_stat[1], a_stat[2], a_stat[3]\n",
    "print(a_stat)\n",
    "\n",
    "b_stat = list(statistics(b))\n",
    "b_m, b_var, b_sd, b_vc = b_stat[0], b_stat[1], b_stat[2], b_stat[3]\n",
    "print(b_stat)"
   ]
  },
  {
   "cell_type": "code",
   "execution_count": 22,
   "id": "a46b21f7",
   "metadata": {},
   "outputs": [],
   "source": [
    "# Математичні очікування розподілів А і В однакові, але дисперсія, ст. відхилення і коеф. варіації менші у розподілу В. \n",
    "# Реалізація виробництва за схемою В має більш передбачуваний і прогнозований середній прибуток.\n",
    "# Проект A більш ризикований (VC = 29%)."
   ]
  }
 ],
 "metadata": {
  "kernelspec": {
   "display_name": "Python 3 (ipykernel)",
   "language": "python",
   "name": "python3"
  },
  "language_info": {
   "codemirror_mode": {
    "name": "ipython",
    "version": 3
   },
   "file_extension": ".py",
   "mimetype": "text/x-python",
   "name": "python",
   "nbconvert_exporter": "python",
   "pygments_lexer": "ipython3",
   "version": "3.11.1"
  }
 },
 "nbformat": 4,
 "nbformat_minor": 5
}
